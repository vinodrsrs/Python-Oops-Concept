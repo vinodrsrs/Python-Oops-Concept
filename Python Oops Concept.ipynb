{
 "cells": [
  {
   "cell_type": "markdown",
   "metadata": {},
   "source": [
    "# Python oops concept\n",
    "\n",
    "* class   : class is a  container which holds Data Members (variable's) and Member Function together .\n",
    "\n",
    "* object  : Is a Instance or BluePrint or Refernce to a Class or Real world entity which has Some Properties and Behaviour .\n",
    "\n",
    "###### for eg : consider car is a object ,it has properties like color, number of wheel's , Price and It Has Behaviour like Transportaion .\n",
    "\n",
    "\n",
    "* init method of class : Every Class Has a Inbuilt Method called __init__ which is used to assign Value's to object Properties. \n",
    "\n",
    "\n",
    "\n",
    "* self keyword   : Every methods inside the class should have Self Parameter ,and  (the name can be anything)  but the first parameter of every method should have self keyword .\n",
    "\n",
    "\n",
    "\n",
    "\n",
    "* self is keyword which is used to point (reference ) the current instance of Class.  \n"
   ]
  },
  {
   "cell_type": "markdown",
   "metadata": {},
   "source": [
    "### Class Template ,"
   ]
  },
  {
   "cell_type": "code",
   "execution_count": 7,
   "metadata": {},
   "outputs": [],
   "source": [
    "class name_of_class:\n",
    "    \"\"\"\n",
    "    \n",
    "           # class body\n",
    "   \n",
    "    \"\"\"\n",
    "    \n",
    "    \n",
    "# class object or instance ,\n",
    "obj  = name_of_class()\n",
    "    "
   ]
  },
  {
   "cell_type": "markdown",
   "metadata": {},
   "source": [
    "# Creating simple class for printing ,hello world !"
   ]
  },
  {
   "cell_type": "code",
   "execution_count": 8,
   "metadata": {},
   "outputs": [
    {
     "name": "stdout",
     "output_type": "stream",
     "text": [
      "Hello  world\n"
     ]
    }
   ],
   "source": [
    "\n",
    "\n",
    "class Greeting:\n",
    "    print(\"Hello  world\")\n",
    "g =  Greeting()   "
   ]
  },
  {
   "cell_type": "markdown",
   "metadata": {},
   "source": [
    "#  Create a class with some user defined function"
   ]
  },
  {
   "cell_type": "code",
   "execution_count": 1,
   "metadata": {},
   "outputs": [
    {
     "name": "stdout",
     "output_type": "stream",
     "text": [
      "Game :  Prince of Persia \n",
      " Size : 4 GB\n"
     ]
    }
   ],
   "source": [
    "class Myclass:\n",
    "    def game_details(self):\n",
    "        print(\"Game :  Prince of Persia \\n Size : 4 GB\")\n",
    "\n",
    "g = Myclass()\n",
    "g.game_details()"
   ]
  },
  {
   "cell_type": "markdown",
   "metadata": {},
   "source": [
    "# Create a Class With __init__ method "
   ]
  },
  {
   "cell_type": "code",
   "execution_count": 5,
   "metadata": {},
   "outputs": [
    {
     "name": "stdout",
     "output_type": "stream",
     "text": [
      "Car Name  is :  Skoda Rapid\n",
      "Car Price is :  16L\n"
     ]
    }
   ],
   "source": [
    "class Car:\n",
    "    def __init__(self,cname,cprice):\n",
    "        self.cname  = cname\n",
    "        self.cprice = cprice\n",
    "    def car_details(self):\n",
    "        print(\"Car Name  is : \",self.cname)\n",
    "        print(\"Car Price is : \",self.cprice)\n",
    "\n",
    "c = Car(\"Skoda Rapid\",\"16L\")\n",
    "c.car_details()"
   ]
  },
  {
   "cell_type": "markdown",
   "metadata": {},
   "source": [
    "# Let's see Implementation of Major Oops Concept"
   ]
  },
  {
   "cell_type": "markdown",
   "metadata": {},
   "source": [
    "# Inheritence"
   ]
  },
  {
   "cell_type": "markdown",
   "metadata": {},
   "source": [
    "1 . Inheritence : Is a oops concept  ,in which ablity to inherit property of one class in another class  .\n",
    "   \n",
    "  #### * Multi level Inheritence  : eg's class A being inherited by class B and class B Being Inherited By Class C .\n",
    "     A --> B ---> C\n",
    "    \n",
    " ####  * Multiple Inheritence     : eg's Class C being Inherited By Both Class A and Class B ,\n",
    "    (one class is inherited from  two or more classes's )\n",
    "                                  \n",
    "  * Parent Class : is the class from which child class inherit's  Properties .\n",
    "  * Child  Class : is the class which inherits Parent class "
   ]
  },
  {
   "cell_type": "markdown",
   "metadata": {},
   "source": [
    "![](multiple-and-multilevel-inheritance.jpg)"
   ]
  },
  {
   "cell_type": "markdown",
   "metadata": {},
   "source": [
    "# Multilevel Class Example "
   ]
  },
  {
   "cell_type": "markdown",
   "metadata": {},
   "source": [
    "![](1_BL1ohgoQlhqSeuiiGN4hFw.jpeg)"
   ]
  },
  {
   "cell_type": "code",
   "execution_count": 17,
   "metadata": {},
   "outputs": [
    {
     "name": "stdout",
     "output_type": "stream",
     "text": [
      "SLR McLaren Red Gold Dream Has Price of $8 million \n",
      "Mercedes-Benz model is the GLA Has Price of 32 Lakh's  \n"
     ]
    }
   ],
   "source": [
    "class Cars:\n",
    "    def __init__(self):\n",
    "        self.Model1 = \"Skoda Model's\"\n",
    "        self.Model2 = \"Benz  Model's\"\n",
    "    def get_benzname(self):\n",
    "        return self.Model2\n",
    "\n",
    "class Benz(Cars):\n",
    "    def __init__(self):\n",
    "        Cars.__init__(self)\n",
    "        self.High_priced_benz_model = \"SLR McLaren Red Gold Dream\"\n",
    "        self.least_priced_benz_model = \"Mercedes-Benz model is the GLA\"\n",
    "    def get_benz_model(self):\n",
    "        return self.High_priced_benz_model,self.least_priced_benz_model\n",
    "    \n",
    "class expensive_benz(Benz):\n",
    "    def __init__(self):\n",
    "        Benz.__init__(self)\n",
    "        self.m1,self.m2 = self.get_benz_model()\n",
    "        \n",
    "    def disp(self):\n",
    "        print(self.m1 , \"Has Price of $8 million \")\n",
    "        print(self.m2 , \"Has Price of 32 Lakh's  \")\n",
    "        \n",
    "        \n",
    "        \n",
    "    \n",
    "c = expensive_benz()    \n",
    "c.disp()"
   ]
  },
  {
   "cell_type": "markdown",
   "metadata": {},
   "source": [
    "# Multiple class Example "
   ]
  },
  {
   "cell_type": "markdown",
   "metadata": {},
   "source": [
    "![](multiple.jpg)"
   ]
  },
  {
   "cell_type": "code",
   "execution_count": 10,
   "metadata": {},
   "outputs": [
    {
     "name": "stdout",
     "output_type": "stream",
     "text": [
      "Shirt colors :\n",
      "i wear Blue\n",
      "i wear red\n"
     ]
    }
   ],
   "source": [
    "\n",
    "class Red:\n",
    "    def red(self):\n",
    "        print(\"i wear red\")\n",
    "class Blue:\n",
    "    def Blue(self):\n",
    "        print(\"i wear Blue\")\n",
    "        \n",
    "class Colors(Blue,Red):\n",
    "    def colors(self):\n",
    "        print(\"Shirt colors :\")\n",
    "\n",
    "c = Colors()\n",
    "c.colors()\n",
    "c.Blue()\n",
    "c.red()"
   ]
  },
  {
   "cell_type": "markdown",
   "metadata": {},
   "source": [
    "# Encapsulation"
   ]
  },
  {
   "cell_type": "markdown",
   "metadata": {},
   "source": [
    "### Encapsulation : Oops concept ,it's way in which wrapping of Data Member's And Member Function's Iniside the class in order to avoid the usage from unauthoraized access. .\n",
    "* To make any Member Function or Data Members Private . just follow the convention by prefixing the name of the member by a single underscore “_”."
   ]
  },
  {
   "cell_type": "markdown",
   "metadata": {},
   "source": [
    "![](encapsulation-in-python.png)"
   ]
  },
  {
   "cell_type": "code",
   "execution_count": 19,
   "metadata": {},
   "outputs": [
    {
     "ename": "AttributeError",
     "evalue": "'example' object has no attribute '__exprivate'",
     "output_type": "error",
     "traceback": [
      "\u001b[1;31m---------------------------------------------------------------------------\u001b[0m",
      "\u001b[1;31mAttributeError\u001b[0m                            Traceback (most recent call last)",
      "\u001b[1;32m<ipython-input-19-f30a1f026d94>\u001b[0m in \u001b[0;36m<module>\u001b[1;34m\u001b[0m\n\u001b[0;32m     13\u001b[0m \u001b[0me\u001b[0m \u001b[1;33m=\u001b[0m \u001b[0mexample\u001b[0m\u001b[1;33m(\u001b[0m\u001b[1;33m)\u001b[0m\u001b[1;33m\u001b[0m\u001b[1;33m\u001b[0m\u001b[0m\n\u001b[0;32m     14\u001b[0m \u001b[1;31m#e.iampublic()\u001b[0m\u001b[1;33m\u001b[0m\u001b[1;33m\u001b[0m\u001b[1;33m\u001b[0m\u001b[0m\n\u001b[1;32m---> 15\u001b[1;33m \u001b[0me\u001b[0m\u001b[1;33m.\u001b[0m\u001b[0m__exprivate\u001b[0m\u001b[1;33m(\u001b[0m\u001b[1;33m)\u001b[0m\u001b[1;33m\u001b[0m\u001b[1;33m\u001b[0m\u001b[0m\n\u001b[0m\u001b[0;32m     16\u001b[0m \u001b[1;33m\u001b[0m\u001b[0m\n\u001b[0;32m     17\u001b[0m \u001b[1;33m\u001b[0m\u001b[0m\n",
      "\u001b[1;31mAttributeError\u001b[0m: 'example' object has no attribute '__exprivate'"
     ]
    }
   ],
   "source": [
    "# Note : here exprivate method is in Private mode hence we are getting  error when we try to access it\n",
    "# from outside of it's scope .\n",
    "\n",
    "# Example 1 \n",
    "\n",
    "class example:\n",
    "    def __init__(self):\n",
    "        self.__a = \"i am in private\"\n",
    "        self.b  = \"i am public\"\n",
    "    def __exprivate(self):\n",
    "        print(self.__a)\n",
    "    def iampublic(self):\n",
    "        print(self.b)\n",
    "        #print(self.__a)\n",
    "e = example()\n",
    "#e.iampublic()    # uncomment this to see the output\n",
    "e.__exprivate()  # comment this to get rid of error msg\n",
    "\n",
    "\n"
   ]
  },
  {
   "cell_type": "code",
   "execution_count": 22,
   "metadata": {},
   "outputs": [
    {
     "name": "stdout",
     "output_type": "stream",
     "text": [
      "I am private\n",
      "i am in public\n"
     ]
    }
   ],
   "source": [
    "# Example 2 \n",
    "\n",
    "class myclass:\n",
    "    def __init__(self):\n",
    "        self.__a = \"I am private\"\n",
    "        self.b  = \"i am in public\"\n",
    "    def __privatemethod(self):\n",
    "        print(self.__a)\n",
    "        print(self.b)\n",
    "    def display(self):\n",
    "        self.__privatemethod()   # accessing private data member from the public mem function of same class\n",
    "m = myclass()\n",
    "m.display()"
   ]
  },
  {
   "cell_type": "markdown",
   "metadata": {},
   "source": [
    "# Polymorphism "
   ]
  },
  {
   "cell_type": "markdown",
   "metadata": {},
   "source": [
    "### Overloading in class methods : Two or More Functions Having Same Name But different Parameters  "
   ]
  },
  {
   "cell_type": "code",
   "execution_count": 3,
   "metadata": {},
   "outputs": [
    {
     "name": "stdout",
     "output_type": "stream",
     "text": [
      "all animal are big in size, except few\n",
      "****************************************\n",
      "lions are cornivarous\n",
      "lion wieghts more\n",
      "****************************************\n",
      "rabbits are hominvorous\n",
      "rabbit wieghs less\n"
     ]
    }
   ],
   "source": [
    "class Animals:\n",
    "    def size(self):\n",
    "        print(\"all animal are big in size, except few\")\n",
    "\n",
    "class lion(Animals):\n",
    "    def lion(self):\n",
    "        print(\"lions are cornivarous\")\n",
    "    def size(self):\n",
    "        print(\"lion wieghts more\")\n",
    "        \n",
    "class rabbit(Animals):\n",
    "    def rabbit(self):\n",
    "        print(\"rabbits are hominvorous\")\n",
    "    def size(self):\n",
    "        print(\"rabbit wieghs less\")\n",
    "        \n",
    "a = Animals()\n",
    "l = lion()\n",
    "r = rabbit()\n",
    "a.size()\n",
    "print(\"*\"*40)\n",
    "l.lion()\n",
    "l.size()\n",
    "print(\"*\"*40)\n",
    "r.rabbit()\n",
    "r.size()\n",
    "\n"
   ]
  },
  {
   "cell_type": "markdown",
   "metadata": {},
   "source": [
    "# Function Overloading with inheritence concept ."
   ]
  },
  {
   "cell_type": "code",
   "execution_count": 20,
   "metadata": {},
   "outputs": [
    {
     "name": "stdout",
     "output_type": "stream",
     "text": [
      "all birds has 2 legs\n",
      "all birds has 2 wings\n",
      "**********\n",
      "Bird Name is : Parrot\n",
      "parrot has 2 legs\n",
      "parrot has 2 wings\n",
      "**********\n",
      "parrot has 2 legs\n",
      "parrot has 2 wings\n"
     ]
    }
   ],
   "source": [
    "class Birds:\n",
    "    def __init__(self):\n",
    "        self.wings = 2\n",
    "    def organs(self):\n",
    "        self.legs = 2\n",
    "        print(\"all birds has {} legs\".format(self.legs))\n",
    "        print(\"all birds has {} wings\".format(self.wings))\n",
    "        \n",
    "class Parrot(Birds):\n",
    "    def __init__(self):\n",
    "        Birds.__init__(self)\n",
    "        self.name = \"Parrot\"\n",
    "    def display(self):\n",
    "        print(\"Bird Name is :\",self.name)\n",
    "        self.organs()\n",
    "    def organs(self):\n",
    "        print(\"parrot has 2 legs\")\n",
    "        print(\"parrot has 2 wings\")\n",
    "        \n",
    "b = Birds()\n",
    "b.organs()\n",
    "print(\"*\"*10)\n",
    "p = Parrot()\n",
    "p.display()\n",
    "print(\"*\"*10)\n",
    "p.organs()"
   ]
  },
  {
   "cell_type": "markdown",
   "metadata": {},
   "source": [
    "# Example for function overloading"
   ]
  },
  {
   "cell_type": "code",
   "execution_count": 11,
   "metadata": {},
   "outputs": [
    {
     "name": "stdout",
     "output_type": "stream",
     "text": [
      "sum is : 5\n",
      "sum is : 15\n"
     ]
    }
   ],
   "source": [
    "def add(a,b,c=0):\n",
    "    print(\"sum is :\",a+b+c)\n",
    "    \n",
    "add(2,3)     # add funtcion with 2 parameters\n",
    "add(4,5,6)   # add funtcion with 3 parameters"
   ]
  },
  {
   "cell_type": "code",
   "execution_count": null,
   "metadata": {},
   "outputs": [],
   "source": []
  }
 ],
 "metadata": {
  "kernelspec": {
   "display_name": "Python 3",
   "language": "python",
   "name": "python3"
  },
  "language_info": {
   "codemirror_mode": {
    "name": "ipython",
    "version": 3
   },
   "file_extension": ".py",
   "mimetype": "text/x-python",
   "name": "python",
   "nbconvert_exporter": "python",
   "pygments_lexer": "ipython3",
   "version": "3.7.1"
  }
 },
 "nbformat": 4,
 "nbformat_minor": 2
}
